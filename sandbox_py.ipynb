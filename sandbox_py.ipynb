{
 "cells": [
  {
   "cell_type": "code",
   "execution_count": 1,
   "metadata": {},
   "outputs": [],
   "source": [
    "from e3nn import o3\n",
    "from rtp import ReducedTensorProducts\n",
    "\n",
    "from e3nn_jax._symmetric_powers import *\n",
    "\n",
    "import multiprocessing as mp\n",
    "import time"
   ]
  },
  {
   "cell_type": "code",
   "execution_count": 2,
   "metadata": {},
   "outputs": [],
   "source": [
    "rtp = ReducedTensorProducts('ij=ji', i='1e', j='1e')"
   ]
  },
  {
   "cell_type": "code",
   "execution_count": 3,
   "metadata": {},
   "outputs": [
    {
     "data": {
      "text/plain": [
       "1x0e+1x2e"
      ]
     },
     "execution_count": 3,
     "metadata": {},
     "output_type": "execute_result"
    }
   ],
   "source": [
    "rtp.irreps_out"
   ]
  },
  {
   "cell_type": "code",
   "execution_count": 12,
   "metadata": {},
   "outputs": [
    {
     "data": {
      "text/plain": [
       "1x0e+1x2e"
      ]
     },
     "execution_count": 12,
     "metadata": {},
     "output_type": "execute_result"
    }
   ],
   "source": [
    "o3.Irreps('1x0e + 1x2e')"
   ]
  },
  {
   "cell_type": "code",
   "execution_count": 2,
   "metadata": {},
   "outputs": [],
   "source": [
    "def symmetric_powers_mp(l, n, lmax):\n",
    "    r\"\"\"\n",
    "    Returns the symmetric powers of the Wigner 3j symbol\n",
    "    Args:\n",
    "        l (int): the order of the indices\n",
    "        n (int): the rank of the tensor (number of indices)\n",
    "        lmax (int): the maximum order in the output\n",
    "    Returns:\n",
    "        dict of the form {l_out: list of sympy arrays}: each array is of shape ``(2l_out+1, 2l+1, ..., 2l+1)``\n",
    "    \"\"\"\n",
    "    assert n > 0\n",
    "    assert l <= lmax\n",
    "\n",
    "    if n == 1:\n",
    "        return {l: [sympy.Array(sympy.eye(2 * l + 1))]}\n",
    "\n",
    "    res = defaultdict(lambda: [])\n",
    "\n",
    "    if n % 2 == 0:\n",
    "        sub = symmetric_powers_mp(l, n // 2, lmax)\n",
    "\n",
    "        for l1 in sub.keys(): # the orders that are present in this representation\n",
    "            for l2 in sub.keys():\n",
    "                for lout in range(abs(l1 - l2), min(lmax, l1 + l2) + 1):\n",
    "                    for a in sub[l1]:\n",
    "                        for b in sub[l2]:\n",
    "                            res[lout].append(product_lll(lout, a, b))\n",
    "\n",
    "    else:\n",
    "        def proc0_f(q):\n",
    "            q.put(symmetric_powers_mp(l, n // 2, lmax))\n",
    "        def proc1_f(q):\n",
    "            q.put(symmetric_powers_mp(l, n // 2 + 1, lmax))\n",
    "        qout = mp.Queue()\n",
    "        proc0 = mp.Process(target=proc0_f, args=(qout,))\n",
    "        proc1 = mp.Process(target=proc1_f, args=(qout,))\n",
    "        proc0.start()\n",
    "        proc1.start()\n",
    "        proc0.join()\n",
    "        proc1.join()\n",
    "        sub1 = qout.get()\n",
    "        sub2 = qout.get()\n",
    "\n",
    "        for l1 in sub1.keys():\n",
    "            for l2 in sub2.keys():\n",
    "                for lout in range(abs(l1 - l2), min(lmax, l1 + l2) + 1):\n",
    "                    for a in sub1[l1]:\n",
    "                        for b in sub2[l2]:\n",
    "                            res[lout].append(product_lll(lout, a, b))\n",
    "\n",
    "    res = {l: solve_symmetric(z) for l, z in res.items()}\n",
    "    res = {l: orthonormalize(z)[0] for l, z in res.items()}\n",
    "    res = {l: z for l, z in res.items() if len(z) > 0}\n",
    "    res = {l: [sympy.simplify(x) for x in z] for l, z in res.items()}\n",
    "    return res"
   ]
  },
  {
   "cell_type": "code",
   "execution_count": 3,
   "metadata": {},
   "outputs": [],
   "source": [
    "def symmetric_powers_s(l, n, lmax):\n",
    "    r\"\"\"\n",
    "    Returns the symmetric powers of the Wigner 3j symbol\n",
    "    Args:\n",
    "        l (int): the order of the indices\n",
    "        n (int): the rank of the tensor (number of indices)\n",
    "        lmax (int): the maximum order in the output\n",
    "    Returns:\n",
    "        dict of the form {l_out: list of sympy arrays}: each array is of shape ``(2l_out+1, 2l+1, ..., 2l+1)``\n",
    "    \"\"\"\n",
    "    assert n > 0\n",
    "    assert l <= lmax\n",
    "\n",
    "    if n == 1:\n",
    "        return {l: [sympy.Array(sympy.eye(2 * l + 1))]}\n",
    "\n",
    "    res = defaultdict(lambda: [])\n",
    "\n",
    "    if n % 2 == 0:\n",
    "        sub = symmetric_powers_s(l, n // 2, lmax)\n",
    "\n",
    "        for l1 in sub.keys(): # the orders that are present in this representation\n",
    "            for l2 in sub.keys():\n",
    "                for lout in range(abs(l1 - l2), min(lmax, l1 + l2) + 1):\n",
    "                    for a in sub[l1]:\n",
    "                        for b in sub[l2]:\n",
    "                            res[lout].append(product_lll(lout, a, b))\n",
    "\n",
    "    else:\n",
    "        sub1 = symmetric_powers_s(l, n // 2, lmax)\n",
    "        sub2 = symmetric_powers_s(l, n // 2 + 1, lmax)\n",
    "\n",
    "        for l1 in sub1.keys():\n",
    "            for l2 in sub2.keys():\n",
    "                for lout in range(abs(l1 - l2), min(lmax, l1 + l2) + 1):\n",
    "                    for a in sub1[l1]:\n",
    "                        for b in sub2[l2]:\n",
    "                            res[lout].append(product_lll(lout, a, b))\n",
    "\n",
    "    res = {l: solve_symmetric(z) for l, z in res.items()}\n",
    "    res = {l: orthonormalize(z)[0] for l, z in res.items()}\n",
    "    res = {l: z for l, z in res.items() if len(z) > 0}\n",
    "    res = {l: [sympy.simplify(x) for x in z] for l, z in res.items()}\n",
    "    return res"
   ]
  },
  {
   "cell_type": "code",
   "execution_count": 7,
   "metadata": {},
   "outputs": [],
   "source": [
    "def btime(N, func, *args):\n",
    "    T = 0\n",
    "    for _ in range(N):\n",
    "        start = time.time()\n",
    "        func(*args)\n",
    "        T += time.time() - start\n",
    "    return T / N"
   ]
  },
  {
   "cell_type": "code",
   "execution_count": 8,
   "metadata": {},
   "outputs": [
    {
     "data": {
      "text/plain": [
       "2.9206363201141357"
      ]
     },
     "execution_count": 8,
     "metadata": {},
     "output_type": "execute_result"
    }
   ],
   "source": [
    "btime(10, symmetric_powers_s, 1, 4, 3)"
   ]
  },
  {
   "cell_type": "code",
   "execution_count": 9,
   "metadata": {},
   "outputs": [
    {
     "data": {
      "text/plain": [
       "2.6179674863815308"
      ]
     },
     "execution_count": 9,
     "metadata": {},
     "output_type": "execute_result"
    }
   ],
   "source": [
    "btime(10, symmetric_powers_mp, 1, 4, 3)"
   ]
  },
  {
   "cell_type": "code",
   "execution_count": null,
   "metadata": {},
   "outputs": [],
   "source": []
  }
 ],
 "metadata": {
  "interpreter": {
   "hash": "2cd8fada61f182f56098fe1517d19883f835726354c07cc9025ce9fc79aa2472"
  },
  "kernelspec": {
   "display_name": "Python 3.8.12 ('e3nn_irreps')",
   "language": "python",
   "name": "python3"
  },
  "language_info": {
   "codemirror_mode": {
    "name": "ipython",
    "version": 3
   },
   "file_extension": ".py",
   "mimetype": "text/x-python",
   "name": "python",
   "nbconvert_exporter": "python",
   "pygments_lexer": "ipython3",
   "version": "3.8.12"
  },
  "orig_nbformat": 4
 },
 "nbformat": 4,
 "nbformat_minor": 2
}
