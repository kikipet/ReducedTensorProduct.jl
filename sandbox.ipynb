{
 "cells": [
  {
   "cell_type": "code",
   "execution_count": 14,
   "metadata": {},
   "outputs": [],
   "source": [
    "struct Irrep\n",
    "    l::Int\n",
    "    p::Int\n",
    "end\n",
    "struct MulIr\n",
    "    mul::Int\n",
    "    ir::Irrep\n",
    "end\n",
    "struct Irreps\n",
    "    mulirs::Vector{MulIr}\n",
    "end"
   ]
  },
  {
   "cell_type": "code",
   "execution_count": 15,
   "metadata": {},
   "outputs": [
    {
     "data": {
      "text/plain": [
       "Irrep"
      ]
     },
     "metadata": {},
     "output_type": "display_data"
    }
   ],
   "source": [
    "function Irrep(l)\n",
    "    if typeof(l) == Irrep\n",
    "        return l\n",
    "    end\n",
    "\n",
    "    if typeof(l) == String || typeof(l) == SubString{String}\n",
    "        try\n",
    "            name = strip(l)\n",
    "            l = parse(Int, name[1:length(name)-1])\n",
    "            @assert l >= 0\n",
    "            p = Dict(\n",
    "                'e' => 1,\n",
    "                'o' => -1,\n",
    "                'y' => (-1)^l,\n",
    "            )[name[length(name)]]\n",
    "        catch\n",
    "            println(\"unable to convert string \\\"$name\\\" into an Irrep\")\n",
    "            throw(error())\n",
    "        end\n",
    "    elseif typeof(l) == Tuple{Any}\n",
    "        l, p = l\n",
    "    end\n",
    "\n",
    "    @assert typeof(l) == Int && l >= 0\n",
    "    @assert p in [-1, 1]\n",
    "    return Irrep(l, p)\n",
    "end"
   ]
  },
  {
   "cell_type": "code",
   "execution_count": 16,
   "metadata": {},
   "outputs": [
    {
     "data": {
      "text/plain": [
       "irrep_in (generic function with 1 method)"
      ]
     },
     "metadata": {},
     "output_type": "display_data"
    }
   ],
   "source": [
    "function irrep_in(irrep, irreps)\n",
    "    for mul_ir in irreps\n",
    "        if irrep == mul_ir.ir\n",
    "            return true\n",
    "        end\n",
    "    end\n",
    "    return false\n",
    "end"
   ]
  },
  {
   "cell_type": "code",
   "execution_count": 17,
   "metadata": {},
   "outputs": [
    {
     "data": {
      "text/plain": [
       "Irreps"
      ]
     },
     "metadata": {},
     "output_type": "display_data"
    }
   ],
   "source": [
    "function Irreps(irreps)\n",
    "    out = []\n",
    "    if typeof(irreps) == Irrep\n",
    "        push!(out, MulIr(1, irreps))\n",
    "    elseif typeof(irreps) == String\n",
    "        try\n",
    "            if strip(irreps) != \"\"\n",
    "                for mul_ir in split(irreps, '+')\n",
    "                    mul_ir = strip(mul_ir)\n",
    "                    if 'x' in mul_ir\n",
    "                        split_mul = split(mul_ir, 'x')\n",
    "                        mul, ir = split(mul_ir, 'x')\n",
    "                        mul = parse(Int, mul)\n",
    "                        ir = Irrep(ir)\n",
    "                    else\n",
    "                        mul = 1\n",
    "                        ir = Irrep(mul_ir)\n",
    "                    end\n",
    "\n",
    "                    @assert typeof(mul) == Int && mul >= 0\n",
    "                    push!(out, MulIr(mul, ir))\n",
    "                end\n",
    "            end\n",
    "        catch\n",
    "            println(\"Unable to convert string \\\"$irreps\\\" into an Irreps\")\n",
    "            throw(error())\n",
    "        end\n",
    "    else\n",
    "        for mul_ir in irreps\n",
    "            mul = nothing\n",
    "            ir = nothing\n",
    "\n",
    "            if typeof(mul_ir) == String\n",
    "                mul = 1\n",
    "                ir = Irrep(mul_ir)\n",
    "            elseif typeof(mul_ir) == Irrep\n",
    "                mul = 1\n",
    "                ir = mul_ir\n",
    "            elseif typeof(mul_ir) == MulIr\n",
    "                mul = mul_ir.mul\n",
    "                ir = mul_ir.ir\n",
    "            elseif length(mul_ir) == 2\n",
    "                mul, ir = mul_ir\n",
    "                ir = Irrep(ir)\n",
    "            end\n",
    "            if !(typeof(mul) == Int && mul >= 0 && ir != nothing)\n",
    "                println(\"Unable to interpret \\\"$mul_ir\\\" as an irrep.\")\n",
    "                throw(error())\n",
    "            end\n",
    "            push!(out, MulIr(mul, ir))\n",
    "        end\n",
    "    end\n",
    "    return out\n",
    "end"
   ]
  },
  {
   "cell_type": "code",
   "execution_count": 18,
   "metadata": {},
   "outputs": [
    {
     "data": {
      "text/plain": [
       "simplify (generic function with 1 method)"
      ]
     },
     "metadata": {},
     "output_type": "display_data"
    }
   ],
   "source": [
    "function simplify(irreps)\n",
    "    out = []\n",
    "    for mul_ir in irreps\n",
    "        if length(out) > 0 && out[length(out)][2] == mul_ir.ir\n",
    "            out[length(out)] = (out[length(out)][1] + mul_ir.mul, mul_ir.ir)\n",
    "        elseif mul_ir.mul > 0\n",
    "            push!(out, (mul_ir.mul, mul_ir.ir))\n",
    "        end\n",
    "    end\n",
    "    return Irreps(out)\n",
    "end"
   ]
  },
  {
   "cell_type": "code",
   "execution_count": 19,
   "metadata": {},
   "outputs": [
    {
     "data": {
      "text/plain": [
       "2-element Vector{Any}:\n",
       " MulIr(2, Irrep(1, 1))\n",
       " MulIr(1, Irrep(0, 1))"
      ]
     },
     "metadata": {},
     "output_type": "display_data"
    }
   ],
   "source": [
    "simplify(Irreps(\"1e + 1e + 0e\"))"
   ]
  },
  {
   "cell_type": "code",
   "execution_count": 20,
   "metadata": {},
   "outputs": [
    {
     "data": {
      "text/plain": [
       "dim (generic function with 3 methods)"
      ]
     },
     "metadata": {},
     "output_type": "display_data"
    }
   ],
   "source": [
    "function dim(I::Irrep)\n",
    "    return 2 * I.l + 1\n",
    "end\n",
    "\n",
    "function dim(I::Irreps)\n",
    "    d = 0\n",
    "    for mul_ir in I\n",
    "        d += mul_ir.mul * dim(mul_ir.ir)\n",
    "    end\n",
    "    return d\n",
    "end\n",
    "\n",
    "function dim(I::Vector)\n",
    "    d = 0\n",
    "    for mul_ir in I\n",
    "        d += mul_ir.mul * dim(mul_ir.ir)\n",
    "    end\n",
    "    return d\n",
    "end"
   ]
  },
  {
   "cell_type": "code",
   "execution_count": 23,
   "metadata": {},
   "outputs": [
    {
     "data": {
      "text/plain": [
       "Irrep"
      ]
     },
     "metadata": {},
     "output_type": "display_data"
    }
   ],
   "source": [
    "typeof(Irrep(\"3e\"))"
   ]
  },
  {
   "cell_type": "code",
   "execution_count": null,
   "metadata": {},
   "outputs": [],
   "source": []
  }
 ],
 "metadata": {
  "kernelspec": {
   "display_name": "Julia 1.7.1",
   "language": "julia",
   "name": "julia-1.7"
  },
  "language_info": {
   "file_extension": ".jl",
   "mimetype": "application/julia",
   "name": "julia",
   "version": "1.7.1"
  },
  "orig_nbformat": 4
 },
 "nbformat": 4,
 "nbformat_minor": 2
}
